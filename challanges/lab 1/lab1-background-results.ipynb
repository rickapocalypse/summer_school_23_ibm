{
 "cells": [
  {
   "cell_type": "markdown",
   "id": "d9bef481",
   "metadata": {
    "papermill": {
     "duration": 0.082234,
     "end_time": "2023-07-18T16:59:54.149544",
     "exception": false,
     "start_time": "2023-07-18T16:59:54.067310",
     "status": "completed"
    },
    "tags": []
   },
   "source": [
    "# Qiskit Global Summer School 2023 - Lab 1\n",
    "\n",
    "This lab shows you how to use Qiskit to implement some of the key concepts you learned in the first 3 lectures of the Qiskit Global Summer School 2023."
   ]
  },
  {
   "cell_type": "code",
   "execution_count": 1,
   "id": "d4749ad4",
   "metadata": {
    "execution": {
     "iopub.execute_input": "2023-07-18T16:59:54.312615Z",
     "iopub.status.busy": "2023-07-18T16:59:54.312170Z",
     "iopub.status.idle": "2023-07-18T16:59:54.814085Z",
     "shell.execute_reply": "2023-07-18T16:59:54.813171Z"
    },
    "papermill": {
     "duration": 0.585896,
     "end_time": "2023-07-18T16:59:54.816588",
     "exception": false,
     "start_time": "2023-07-18T16:59:54.230692",
     "status": "completed"
    },
    "tags": []
   },
   "outputs": [],
   "source": [
    "# required imports:\n",
    "from qiskit.visualization import array_to_latex\n",
    "from qiskit.quantum_info import Statevector, random_statevector\n",
    "from qiskit.quantum_info.operators import Operator, Pauli\n",
    "from qiskit import QuantumCircuit\n",
    "from qiskit.circuit.library import HGate, CXGate\n",
    "import numpy as np"
   ]
  },
  {
   "cell_type": "markdown",
   "id": "742da035",
   "metadata": {
    "papermill": {
     "duration": 0.070698,
     "end_time": "2023-07-18T16:59:54.992367",
     "exception": false,
     "start_time": "2023-07-18T16:59:54.921669",
     "status": "completed"
    },
    "tags": []
   },
   "source": [
    "## Vectors and Dirac Notation"
   ]
  },
  {
   "cell_type": "markdown",
   "id": "808ec86f",
   "metadata": {
    "papermill": {
     "duration": 0.070515,
     "end_time": "2023-07-18T16:59:55.142799",
     "exception": false,
     "start_time": "2023-07-18T16:59:55.072284",
     "status": "completed"
    },
    "tags": []
   },
   "source": [
    "In the lectures you learned different ways of representing quantum states, including how to use bra-ket (Dirac) notation.\n",
    "\n",
    "Although bra-ket notation cannot be represented exactly in code, we can represent their vector and matrix equivalent with python.\n",
    "\n",
    "E.g. we can represent $|0\\rangle$ using a python list:"
   ]
  },
  {
   "cell_type": "code",
   "execution_count": 2,
   "id": "b93989c8",
   "metadata": {
    "execution": {
     "iopub.execute_input": "2023-07-18T16:59:55.297426Z",
     "iopub.status.busy": "2023-07-18T16:59:55.296935Z",
     "iopub.status.idle": "2023-07-18T16:59:55.301919Z",
     "shell.execute_reply": "2023-07-18T16:59:55.300838Z"
    },
    "papermill": {
     "duration": 0.080061,
     "end_time": "2023-07-18T16:59:55.303892",
     "exception": false,
     "start_time": "2023-07-18T16:59:55.223831",
     "status": "completed"
    },
    "tags": []
   },
   "outputs": [],
   "source": [
    "ket0 = [[1],[0]]"
   ]
  },
  {
   "cell_type": "markdown",
   "id": "34428069",
   "metadata": {
    "papermill": {
     "duration": 0.079888,
     "end_time": "2023-07-18T16:59:55.453411",
     "exception": false,
     "start_time": "2023-07-18T16:59:55.373523",
     "status": "completed"
    },
    "tags": []
   },
   "source": [
    "And we can use one of Qiskit's visualisation tools to make our vectors nicer to look at:"
   ]
  },
  {
   "cell_type": "code",
   "execution_count": 3,
   "id": "ee9b7eb0",
   "metadata": {
    "execution": {
     "iopub.execute_input": "2023-07-18T16:59:55.596074Z",
     "iopub.status.busy": "2023-07-18T16:59:55.595661Z",
     "iopub.status.idle": "2023-07-18T16:59:55.985846Z",
     "shell.execute_reply": "2023-07-18T16:59:55.984978Z"
    },
    "papermill": {
     "duration": 0.466289,
     "end_time": "2023-07-18T16:59:55.987957",
     "exception": false,
     "start_time": "2023-07-18T16:59:55.521668",
     "status": "completed"
    },
    "tags": []
   },
   "outputs": [
    {
     "data": {
      "text/latex": [
       "$$\n",
       "\n",
       "\\begin{bmatrix}\n",
       "1  \\\\\n",
       " 0  \\\\\n",
       " \\end{bmatrix}\n",
       "$$"
      ],
      "text/plain": [
       "<IPython.core.display.Latex object>"
      ]
     },
     "execution_count": 3,
     "metadata": {},
     "output_type": "execute_result"
    }
   ],
   "source": [
    "array_to_latex(ket0)"
   ]
  },
  {
   "cell_type": "markdown",
   "id": "a61be47b",
   "metadata": {
    "papermill": {
     "duration": 0.070113,
     "end_time": "2023-07-18T16:59:56.133706",
     "exception": false,
     "start_time": "2023-07-18T16:59:56.063593",
     "status": "completed"
    },
    "tags": []
   },
   "source": [
    "We can do the same with $\\langle0|$:"
   ]
  },
  {
   "cell_type": "code",
   "execution_count": 4,
   "id": "25f9ff7e",
   "metadata": {
    "execution": {
     "iopub.execute_input": "2023-07-18T16:59:56.283230Z",
     "iopub.status.busy": "2023-07-18T16:59:56.282604Z",
     "iopub.status.idle": "2023-07-18T16:59:56.289562Z",
     "shell.execute_reply": "2023-07-18T16:59:56.288670Z"
    },
    "papermill": {
     "duration": 0.083397,
     "end_time": "2023-07-18T16:59:56.291947",
     "exception": false,
     "start_time": "2023-07-18T16:59:56.208550",
     "status": "completed"
    },
    "tags": []
   },
   "outputs": [
    {
     "data": {
      "text/latex": [
       "$$\n",
       "\n",
       "\\begin{bmatrix}\n",
       "1 & 0  \\\\\n",
       " \\end{bmatrix}\n",
       "$$"
      ],
      "text/plain": [
       "<IPython.core.display.Latex object>"
      ]
     },
     "execution_count": 4,
     "metadata": {},
     "output_type": "execute_result"
    }
   ],
   "source": [
    "bra0 = [1,0]\n",
    "array_to_latex(bra0)"
   ]
  },
  {
   "cell_type": "markdown",
   "id": "2cc359db",
   "metadata": {
    "papermill": {
     "duration": 0.080932,
     "end_time": "2023-07-18T16:59:56.453855",
     "exception": false,
     "start_time": "2023-07-18T16:59:56.372923",
     "status": "completed"
    },
    "tags": []
   },
   "source": [
    "<div class=\"alert alert-block alert-success\"> Ex 1 - create $|1\\rangle$ and $\\langle1|$ with python lists </div>"
   ]
  },
  {
   "cell_type": "code",
   "execution_count": 5,
   "id": "59a7be22",
   "metadata": {
    "execution": {
     "iopub.execute_input": "2023-07-18T16:59:56.605318Z",
     "iopub.status.busy": "2023-07-18T16:59:56.604425Z",
     "iopub.status.idle": "2023-07-18T16:59:56.609158Z",
     "shell.execute_reply": "2023-07-18T16:59:56.608391Z"
    },
    "papermill": {
     "duration": 0.079175,
     "end_time": "2023-07-18T16:59:56.611037",
     "exception": false,
     "start_time": "2023-07-18T16:59:56.531862",
     "status": "completed"
    },
    "tags": []
   },
   "outputs": [],
   "source": [
    "ket1 = [[0],[1]]# put your answer answer here for |1⟩\n",
    "bra1 = [0,1]# put answer here for ⟨1|"
   ]
  },
  {
   "cell_type": "code",
   "execution_count": 6,
   "id": "dcc474ad",
   "metadata": {
    "execution": {
     "iopub.execute_input": "2023-07-18T16:59:56.759494Z",
     "iopub.status.busy": "2023-07-18T16:59:56.759095Z",
     "iopub.status.idle": "2023-07-18T16:59:59.259943Z",
     "shell.execute_reply": "2023-07-18T16:59:59.258748Z"
    },
    "papermill": {
     "duration": 2.57559,
     "end_time": "2023-07-18T16:59:59.262157",
     "exception": false,
     "start_time": "2023-07-18T16:59:56.686567",
     "status": "completed"
    },
    "tags": []
   },
   "outputs": [
    {
     "name": "stdout",
     "output_type": "stream",
     "text": [
      "Submitting your answer. Please wait...\n"
     ]
    },
    {
     "name": "stdout",
     "output_type": "stream",
     "text": [
      "Congratulations 🎉! Your answer is correct and has been submitted.\n"
     ]
    }
   ],
   "source": [
    "from qc_grader.challenges.qgss_2023 import grade_lab1_ex1 \n",
    "\n",
    "grade_lab1_ex1([ket1, bra1])"
   ]
  },
  {
   "cell_type": "markdown",
   "id": "21b44ec9",
   "metadata": {
    "papermill": {
     "duration": 0.072462,
     "end_time": "2023-07-18T16:59:59.420463",
     "exception": false,
     "start_time": "2023-07-18T16:59:59.348001",
     "status": "completed"
    },
    "tags": []
   },
   "source": [
    "## Qiskit `Statevector` Class\n",
    "\n",
    "In the lectures you learned about using state vectors to represent quantum states. You can represent quantum state vectors in code using Qiskit's [`Statevector` class](https://qiskit.org/documentation/stubs/qiskit.quantum_info.Statevector.html).\n",
    "\n",
    "Qiskit's `Statevector` class can take different forms of input (e.g. python list, numpy array, another state vector) to construct a state vector.\n",
    "\n",
    "Let's take the `bra0` object we created earlier and convert it to a `Statevector` object:"
   ]
  },
  {
   "cell_type": "code",
   "execution_count": 7,
   "id": "3ac7420a",
   "metadata": {
    "execution": {
     "iopub.execute_input": "2023-07-18T16:59:59.568549Z",
     "iopub.status.busy": "2023-07-18T16:59:59.567898Z",
     "iopub.status.idle": "2023-07-18T16:59:59.576239Z",
     "shell.execute_reply": "2023-07-18T16:59:59.575088Z"
    },
    "papermill": {
     "duration": 0.084356,
     "end_time": "2023-07-18T16:59:59.578419",
     "exception": false,
     "start_time": "2023-07-18T16:59:59.494063",
     "status": "completed"
    },
    "tags": []
   },
   "outputs": [
    {
     "name": "stdout",
     "output_type": "stream",
     "text": [
      "Statevector([1.+0.j, 0.+0.j],\n",
      "            dims=(2,))\n"
     ]
    }
   ],
   "source": [
    "sv_bra0 = Statevector(bra0)\n",
    "\n",
    "sv_bra0"
   ]
  },
  {
   "cell_type": "markdown",
   "id": "9d3015ec",
   "metadata": {
    "papermill": {
     "duration": 0.071551,
     "end_time": "2023-07-18T16:59:59.729381",
     "exception": false,
     "start_time": "2023-07-18T16:59:59.657830",
     "status": "completed"
    },
    "tags": []
   },
   "source": [
    "The `Statevector` class has its own `draw()` method:"
   ]
  },
  {
   "cell_type": "code",
   "execution_count": 8,
   "id": "c7d0a57c",
   "metadata": {
    "execution": {
     "iopub.execute_input": "2023-07-18T16:59:59.877148Z",
     "iopub.status.busy": "2023-07-18T16:59:59.876735Z",
     "iopub.status.idle": "2023-07-18T16:59:59.887627Z",
     "shell.execute_reply": "2023-07-18T16:59:59.886530Z"
    },
    "papermill": {
     "duration": 0.087637,
     "end_time": "2023-07-18T16:59:59.889844",
     "exception": false,
     "start_time": "2023-07-18T16:59:59.802207",
     "status": "completed"
    },
    "tags": []
   },
   "outputs": [
    {
     "data": {
      "text/latex": [
       "$$ |0\\rangle$$"
      ],
      "text/plain": [
       "<IPython.core.display.Latex object>"
      ]
     },
     "execution_count": 8,
     "metadata": {},
     "output_type": "execute_result"
    }
   ],
   "source": [
    "sv_bra0.draw('latex')"
   ]
  },
  {
   "cell_type": "markdown",
   "id": "9a443d7b",
   "metadata": {
    "papermill": {
     "duration": 0.100043,
     "end_time": "2023-07-18T17:00:00.064982",
     "exception": false,
     "start_time": "2023-07-18T16:59:59.964939",
     "status": "completed"
    },
    "tags": []
   },
   "source": [
    "We can create more complex statevectors with multiple qubits like this:"
   ]
  },
  {
   "cell_type": "code",
   "execution_count": 9,
   "id": "dc70f9c7",
   "metadata": {
    "execution": {
     "iopub.execute_input": "2023-07-18T17:00:00.218311Z",
     "iopub.status.busy": "2023-07-18T17:00:00.217589Z",
     "iopub.status.idle": "2023-07-18T17:00:00.235856Z",
     "shell.execute_reply": "2023-07-18T17:00:00.234611Z"
    },
    "papermill": {
     "duration": 0.095325,
     "end_time": "2023-07-18T17:00:00.238753",
     "exception": false,
     "start_time": "2023-07-18T17:00:00.143428",
     "status": "completed"
    },
    "tags": []
   },
   "outputs": [
    {
     "data": {
      "text/latex": [
       "$$\\frac{1}{2} |00\\rangle+\\frac{3}{4} |01\\rangle+\\frac{4}{5} |10\\rangle+\\frac{3}{4} |11\\rangle$$"
      ],
      "text/plain": [
       "<IPython.core.display.Latex object>"
      ]
     },
     "execution_count": 9,
     "metadata": {},
     "output_type": "execute_result"
    }
   ],
   "source": [
    "sv_eq = Statevector([1/2, 3/4, 4/5, 6/8])\n",
    "\n",
    "sv_eq.draw('latex')"
   ]
  },
  {
   "cell_type": "markdown",
   "id": "c7e00788",
   "metadata": {
    "papermill": {
     "duration": 0.076298,
     "end_time": "2023-07-18T17:00:00.397521",
     "exception": false,
     "start_time": "2023-07-18T17:00:00.321223",
     "status": "completed"
    },
    "tags": []
   },
   "source": [
    "Note that the vector above is not a valid state vector as it is not normalised. \n",
    "We can check this with the `is_valid()` method:"
   ]
  },
  {
   "cell_type": "code",
   "execution_count": 10,
   "id": "8459bf73",
   "metadata": {
    "execution": {
     "iopub.execute_input": "2023-07-18T17:00:00.543387Z",
     "iopub.status.busy": "2023-07-18T17:00:00.542919Z",
     "iopub.status.idle": "2023-07-18T17:00:00.550842Z",
     "shell.execute_reply": "2023-07-18T17:00:00.549672Z"
    },
    "papermill": {
     "duration": 0.086524,
     "end_time": "2023-07-18T17:00:00.552791",
     "exception": false,
     "start_time": "2023-07-18T17:00:00.466267",
     "status": "completed"
    },
    "tags": []
   },
   "outputs": [
    {
     "data": {
      "text/plain": [
       "False"
      ]
     },
     "execution_count": 10,
     "metadata": {},
     "output_type": "execute_result"
    }
   ],
   "source": [
    "sv_eq.is_valid()"
   ]
  },
  {
   "cell_type": "markdown",
   "id": "a4b83945",
   "metadata": {
    "papermill": {
     "duration": 0.072428,
     "end_time": "2023-07-18T17:00:00.706714",
     "exception": false,
     "start_time": "2023-07-18T17:00:00.634286",
     "status": "completed"
    },
    "tags": []
   },
   "source": [
    "<div class=\"alert alert-block alert-success\"> Ex 2 - create your own valid statevector object using the `Statevector` class </div>"
   ]
  },
  {
   "cell_type": "code",
   "execution_count": 11,
   "id": "02cfaf2f",
   "metadata": {
    "execution": {
     "iopub.execute_input": "2023-07-18T17:00:00.861076Z",
     "iopub.status.busy": "2023-07-18T17:00:00.860675Z",
     "iopub.status.idle": "2023-07-18T17:00:00.870634Z",
     "shell.execute_reply": "2023-07-18T17:00:00.869458Z"
    },
    "papermill": {
     "duration": 0.084844,
     "end_time": "2023-07-18T17:00:00.872466",
     "exception": false,
     "start_time": "2023-07-18T17:00:00.787622",
     "status": "completed"
    },
    "tags": []
   },
   "outputs": [
    {
     "data": {
      "text/latex": [
       "$$ |0\\rangle$$"
      ],
      "text/plain": [
       "<IPython.core.display.Latex object>"
      ]
     },
     "execution_count": 11,
     "metadata": {},
     "output_type": "execute_result"
    }
   ],
   "source": [
    "sv_valid = Statevector([1,0])# create your statevector here\n",
    "sv_valid.draw('latex')"
   ]
  },
  {
   "cell_type": "code",
   "execution_count": 12,
   "id": "ed497a1a",
   "metadata": {
    "execution": {
     "iopub.execute_input": "2023-07-18T17:00:01.025591Z",
     "iopub.status.busy": "2023-07-18T17:00:01.025184Z",
     "iopub.status.idle": "2023-07-18T17:00:02.460812Z",
     "shell.execute_reply": "2023-07-18T17:00:02.459676Z"
    },
    "papermill": {
     "duration": 1.517692,
     "end_time": "2023-07-18T17:00:02.462860",
     "exception": false,
     "start_time": "2023-07-18T17:00:00.945168",
     "status": "completed"
    },
    "tags": []
   },
   "outputs": [
    {
     "name": "stdout",
     "output_type": "stream",
     "text": [
      "Submitting your answer. Please wait...\n"
     ]
    },
    {
     "name": "stdout",
     "output_type": "stream",
     "text": [
      "Congratulations 🎉! Your answer is correct and has been submitted.\n"
     ]
    }
   ],
   "source": [
    "from qc_grader.challenges.qgss_2023 import grade_lab1_ex2 \n",
    "\n",
    "grade_lab1_ex2(sv_valid)"
   ]
  },
  {
   "cell_type": "markdown",
   "id": "3faad35b",
   "metadata": {
    "papermill": {
     "duration": 0.094567,
     "end_time": "2023-07-18T17:00:02.632000",
     "exception": false,
     "start_time": "2023-07-18T17:00:02.537433",
     "status": "completed"
    },
    "tags": []
   },
   "source": [
    "## Qiskit `Operator` Class\n",
    "\n",
    "The [`Operator` class](https://qiskit.org/documentation/stubs/qiskit.quantum_info.Operator.html#qiskit.quantum_info.Operator) is used in Qiskit to represent matrix operators acting on a quantum system. It has several methods to build composite operators using tensor products of smaller operators, and to compose operators.\n",
    "\n",
    "One way we can initialise a Qiskit `Operator` is by using a python list, like the one we created earlier:"
   ]
  },
  {
   "cell_type": "code",
   "execution_count": 13,
   "id": "180a544f",
   "metadata": {
    "execution": {
     "iopub.execute_input": "2023-07-18T17:00:02.785185Z",
     "iopub.status.busy": "2023-07-18T17:00:02.784225Z",
     "iopub.status.idle": "2023-07-18T17:00:02.790920Z",
     "shell.execute_reply": "2023-07-18T17:00:02.790027Z"
    },
    "papermill": {
     "duration": 0.085567,
     "end_time": "2023-07-18T17:00:02.792750",
     "exception": false,
     "start_time": "2023-07-18T17:00:02.707183",
     "status": "completed"
    },
    "tags": []
   },
   "outputs": [
    {
     "data": {
      "text/plain": [
       "Operator([1.+0.j, 0.+0.j],\n",
       "         input_dims=(), output_dims=(2,))"
      ]
     },
     "execution_count": 13,
     "metadata": {},
     "output_type": "execute_result"
    }
   ],
   "source": [
    "op_bra0 = Operator(bra0)\n",
    "\n",
    "op_bra0"
   ]
  },
  {
   "cell_type": "markdown",
   "id": "dc578df9",
   "metadata": {
    "papermill": {
     "duration": 0.081152,
     "end_time": "2023-07-18T17:00:02.956295",
     "exception": false,
     "start_time": "2023-07-18T17:00:02.875143",
     "status": "completed"
    },
    "tags": []
   },
   "source": [
    "The Operator class comes with some handy methods for working with operators, for example we can find the tensor product of 2 operators by using the `tensor()` method:"
   ]
  },
  {
   "cell_type": "code",
   "execution_count": 14,
   "id": "7aed9441",
   "metadata": {
    "execution": {
     "iopub.execute_input": "2023-07-18T17:00:03.108208Z",
     "iopub.status.busy": "2023-07-18T17:00:03.107097Z",
     "iopub.status.idle": "2023-07-18T17:00:03.117022Z",
     "shell.execute_reply": "2023-07-18T17:00:03.115910Z"
    },
    "papermill": {
     "duration": 0.089012,
     "end_time": "2023-07-18T17:00:03.119312",
     "exception": false,
     "start_time": "2023-07-18T17:00:03.030300",
     "status": "completed"
    },
    "tags": []
   },
   "outputs": [
    {
     "data": {
      "text/plain": [
       "Operator([[1.+0.j, 0.+0.j],\n",
       "          [0.+0.j, 0.+0.j]],\n",
       "         input_dims=(), output_dims=(2, 2))"
      ]
     },
     "execution_count": 14,
     "metadata": {},
     "output_type": "execute_result"
    }
   ],
   "source": [
    "op_ket0 = Operator(ket0)\n",
    "op_bra0.tensor(op_ket0)"
   ]
  },
  {
   "cell_type": "markdown",
   "id": "e244f5a0",
   "metadata": {
    "papermill": {
     "duration": 0.081977,
     "end_time": "2023-07-18T17:00:03.274819",
     "exception": false,
     "start_time": "2023-07-18T17:00:03.192842",
     "status": "completed"
    },
    "tags": []
   },
   "source": [
    "We'll use the `Operator` and `Statevector` classes more in the following exercises."
   ]
  },
  {
   "cell_type": "markdown",
   "id": "208cf2b6",
   "metadata": {
    "papermill": {
     "duration": 0.076464,
     "end_time": "2023-07-18T17:00:03.430484",
     "exception": false,
     "start_time": "2023-07-18T17:00:03.354020",
     "status": "completed"
    },
    "tags": []
   },
   "source": [
    "## Inner & Outer Product\n",
    "\n",
    "In the lectures you covered the concepts of the inner and outer product. We can explore these concepts in code using numpy methods `.dot()` (the inner product is a generalised form of the dot product) and `.outer()`.\n",
    "\n",
    "For example, we can find the inner product $\\langle0|0\\rangle$ like this:"
   ]
  },
  {
   "cell_type": "code",
   "execution_count": 15,
   "id": "cf3cb816",
   "metadata": {
    "execution": {
     "iopub.execute_input": "2023-07-18T17:00:03.577262Z",
     "iopub.status.busy": "2023-07-18T17:00:03.576449Z",
     "iopub.status.idle": "2023-07-18T17:00:03.586770Z",
     "shell.execute_reply": "2023-07-18T17:00:03.585843Z"
    },
    "papermill": {
     "duration": 0.0858,
     "end_time": "2023-07-18T17:00:03.588871",
     "exception": false,
     "start_time": "2023-07-18T17:00:03.503071",
     "status": "completed"
    },
    "tags": []
   },
   "outputs": [
    {
     "data": {
      "text/latex": [
       "$$\n",
       "\n",
       "\\begin{bmatrix}\n",
       "1  \\\\\n",
       " \\end{bmatrix}\n",
       "$$"
      ],
      "text/plain": [
       "<IPython.core.display.Latex object>"
      ]
     },
     "execution_count": 15,
     "metadata": {},
     "output_type": "execute_result"
    }
   ],
   "source": [
    "braket = np.dot(op_bra0,op_ket0)\n",
    "array_to_latex(braket)"
   ]
  },
  {
   "cell_type": "markdown",
   "id": "e5d604d7",
   "metadata": {
    "papermill": {
     "duration": 0.084106,
     "end_time": "2023-07-18T17:00:03.750023",
     "exception": false,
     "start_time": "2023-07-18T17:00:03.665917",
     "status": "completed"
    },
    "tags": []
   },
   "source": [
    "and the outer product $|0\\rangle\\langle0|$ like this:"
   ]
  },
  {
   "cell_type": "code",
   "execution_count": 16,
   "id": "73232e3d",
   "metadata": {
    "execution": {
     "iopub.execute_input": "2023-07-18T17:00:03.922960Z",
     "iopub.status.busy": "2023-07-18T17:00:03.922536Z",
     "iopub.status.idle": "2023-07-18T17:00:03.930433Z",
     "shell.execute_reply": "2023-07-18T17:00:03.929458Z"
    },
    "papermill": {
     "duration": 0.104144,
     "end_time": "2023-07-18T17:00:03.932495",
     "exception": false,
     "start_time": "2023-07-18T17:00:03.828351",
     "status": "completed"
    },
    "tags": []
   },
   "outputs": [
    {
     "data": {
      "text/latex": [
       "$$\n",
       "\n",
       "\\begin{bmatrix}\n",
       "1 & 0  \\\\\n",
       " 0 & 0  \\\\\n",
       " \\end{bmatrix}\n",
       "$$"
      ],
      "text/plain": [
       "<IPython.core.display.Latex object>"
      ]
     },
     "execution_count": 16,
     "metadata": {},
     "output_type": "execute_result"
    }
   ],
   "source": [
    "ketbra = np.outer(ket0,bra0)\n",
    "array_to_latex(ketbra)"
   ]
  },
  {
   "cell_type": "code",
   "execution_count": 17,
   "id": "98e2ba66",
   "metadata": {
    "execution": {
     "iopub.execute_input": "2023-07-18T17:00:04.087015Z",
     "iopub.status.busy": "2023-07-18T17:00:04.086540Z",
     "iopub.status.idle": "2023-07-18T17:00:04.096986Z",
     "shell.execute_reply": "2023-07-18T17:00:04.095994Z"
    },
    "papermill": {
     "duration": 0.089779,
     "end_time": "2023-07-18T17:00:04.099121",
     "exception": false,
     "start_time": "2023-07-18T17:00:04.009342",
     "status": "completed"
    },
    "tags": []
   },
   "outputs": [
    {
     "data": {
      "text/latex": [
       "$$\n",
       "\n",
       "\\begin{bmatrix}\n",
       "1  \\\\\n",
       " \\end{bmatrix}\n",
       "$$"
      ],
      "text/plain": [
       "<IPython.core.display.Latex object>"
      ]
     },
     "execution_count": 17,
     "metadata": {},
     "output_type": "execute_result"
    }
   ],
   "source": [
    "braket = np.dot(op_bra0,op_ket0)\n",
    "array_to_latex(braket)"
   ]
  },
  {
   "cell_type": "markdown",
   "id": "cdca2a30",
   "metadata": {
    "papermill": {
     "duration": 0.372953,
     "end_time": "2023-07-18T17:00:04.550299",
     "exception": false,
     "start_time": "2023-07-18T17:00:04.177346",
     "status": "completed"
    },
    "tags": []
   },
   "source": [
    "Note: the numpy methods we used above work with Qiskit Operators as well as regular python lists."
   ]
  },
  {
   "cell_type": "markdown",
   "id": "2dc9ed02",
   "metadata": {
    "papermill": {
     "duration": 0.081474,
     "end_time": "2023-07-18T17:00:04.729896",
     "exception": false,
     "start_time": "2023-07-18T17:00:04.648422",
     "status": "completed"
    },
    "tags": []
   },
   "source": [
    "<div class=\"alert alert-block alert-success\"> Ex 3 - use numpy to find the result of the following inner and outer products: $\\langle1|0\\rangle, \\langle0|1\\rangle, \\langle1|1\\rangle, |1\\rangle\\langle0|, |0\\rangle\\langle1|$ and $|1\\rangle\\langle1| $ </div>"
   ]
  },
  {
   "cell_type": "code",
   "execution_count": 18,
   "id": "72e1bb34",
   "metadata": {
    "execution": {
     "iopub.execute_input": "2023-07-18T17:00:04.881340Z",
     "iopub.status.busy": "2023-07-18T17:00:04.880958Z",
     "iopub.status.idle": "2023-07-18T17:00:04.887127Z",
     "shell.execute_reply": "2023-07-18T17:00:04.886216Z"
    },
    "papermill": {
     "duration": 0.086904,
     "end_time": "2023-07-18T17:00:04.888978",
     "exception": false,
     "start_time": "2023-07-18T17:00:04.802074",
     "status": "completed"
    },
    "tags": []
   },
   "outputs": [],
   "source": [
    "bra1ket0 = np.dot(bra1,ket0) # put your answer for ⟨1|0⟩ here\n",
    "\n",
    "bra0ket1 = np.dot(bra0,ket1) # put your answer for ⟨0|1⟩ here\n",
    "\n",
    "bra1ket1 = np.dot(bra1,ket1) # put your answer for ⟨1|1⟩ here\n",
    "\n",
    "ket1bra0 = np.outer(ket1,bra0) # put your answer for |1⟩⟨0| here\n",
    "\n",
    "ket0bra1 = np.outer(ket0, bra1) # put your answer for |0⟩⟨1| here\n",
    "\n",
    "ket1bra1 = np.outer(ket1,bra1) # put your answer for |1⟩⟨1| here"
   ]
  },
  {
   "cell_type": "code",
   "execution_count": 19,
   "id": "37b9cf70",
   "metadata": {
    "execution": {
     "iopub.execute_input": "2023-07-18T17:00:05.048552Z",
     "iopub.status.busy": "2023-07-18T17:00:05.047272Z",
     "iopub.status.idle": "2023-07-18T17:00:06.873562Z",
     "shell.execute_reply": "2023-07-18T17:00:06.872253Z"
    },
    "papermill": {
     "duration": 1.910689,
     "end_time": "2023-07-18T17:00:06.875554",
     "exception": false,
     "start_time": "2023-07-18T17:00:04.964865",
     "status": "completed"
    },
    "tags": []
   },
   "outputs": [
    {
     "name": "stdout",
     "output_type": "stream",
     "text": [
      "Submitting your answer. Please wait...\n"
     ]
    },
    {
     "name": "stdout",
     "output_type": "stream",
     "text": [
      "Congratulations 🎉! Your answer is correct and has been submitted.\n"
     ]
    }
   ],
   "source": [
    "from qc_grader.challenges.qgss_2023 import grade_lab1_ex3 \n",
    "\n",
    "grade_lab1_ex3([bra1ket0, bra0ket1, bra1ket1, ket1bra0, ket0bra1, ket1bra1])"
   ]
  },
  {
   "cell_type": "markdown",
   "id": "7c03e06d",
   "metadata": {
    "papermill": {
     "duration": 0.071626,
     "end_time": "2023-07-18T17:00:07.027568",
     "exception": false,
     "start_time": "2023-07-18T17:00:06.955942",
     "status": "completed"
    },
    "tags": []
   },
   "source": [
    "<div class=\"alert alert-block alert-success\"> \n",
    "    <p> Ex 4 - when the inner product of 2 quantum states is equal to 0, those states are orthogonal. Which of the following states are orthogonal? </p>\n",
    "    <p>a) $\\vert 0\\rangle$ and $\\vert 1\\rangle$ </p>\n",
    "    <p>b) $\\vert 0\\rangle$ and $\\vert 0\\rangle$ </p>\n",
    "    <p>c) $\\vert 1\\rangle$ and $\\vert 1\\rangle$ </p>\n",
    "</div>"
   ]
  },
  {
   "cell_type": "code",
   "execution_count": 20,
   "id": "6e061263",
   "metadata": {
    "execution": {
     "iopub.execute_input": "2023-07-18T17:00:07.188714Z",
     "iopub.status.busy": "2023-07-18T17:00:07.187866Z",
     "iopub.status.idle": "2023-07-18T17:00:07.193093Z",
     "shell.execute_reply": "2023-07-18T17:00:07.191965Z"
    },
    "papermill": {
     "duration": 0.092861,
     "end_time": "2023-07-18T17:00:07.195190",
     "exception": false,
     "start_time": "2023-07-18T17:00:07.102329",
     "status": "completed"
    },
    "tags": []
   },
   "outputs": [],
   "source": [
    "# add or remove your answer from this list\n",
    "answer = ['a']"
   ]
  },
  {
   "cell_type": "code",
   "execution_count": 21,
   "id": "bf314ab5",
   "metadata": {
    "execution": {
     "iopub.execute_input": "2023-07-18T17:00:07.347130Z",
     "iopub.status.busy": "2023-07-18T17:00:07.346695Z",
     "iopub.status.idle": "2023-07-18T17:00:08.971382Z",
     "shell.execute_reply": "2023-07-18T17:00:08.970266Z"
    },
    "papermill": {
     "duration": 1.705705,
     "end_time": "2023-07-18T17:00:08.973475",
     "exception": false,
     "start_time": "2023-07-18T17:00:07.267770",
     "status": "completed"
    },
    "tags": []
   },
   "outputs": [
    {
     "name": "stdout",
     "output_type": "stream",
     "text": [
      "Submitting your answer. Please wait...\n"
     ]
    },
    {
     "name": "stdout",
     "output_type": "stream",
     "text": [
      "Congratulations 🎉! Your answer is correct and has been submitted.\n"
     ]
    }
   ],
   "source": [
    "from qc_grader.challenges.qgss_2023 import grade_lab1_ex4 \n",
    "\n",
    "grade_lab1_ex4(answer)"
   ]
  },
  {
   "cell_type": "markdown",
   "id": "e695b37a",
   "metadata": {
    "papermill": {
     "duration": 0.077518,
     "end_time": "2023-07-18T17:00:09.131718",
     "exception": false,
     "start_time": "2023-07-18T17:00:09.054200",
     "status": "completed"
    },
    "tags": []
   },
   "source": [
    "## Deterministic operations\n",
    "\n",
    "As mentioned in the lectures, there are 4 single bit deterministic operations:  \n",
    "f1 = constant-0  \n",
    "f2 = identity  \n",
    "f3 = bit flip / not  \n",
    "f4 = constant-1\n",
    "\n",
    "$$\n",
    "\\begin{array}{c|c}\n",
    "  a & f_1(a)\\\\\n",
    "  \\hline\n",
    "  0 & 0\\\\\n",
    "  1 & 0\n",
    "\\end{array}\n",
    "\\qquad\n",
    "\\begin{array}{c|c}\n",
    "  a & f_2(a)\\\\\n",
    "  \\hline\n",
    "  0 & 0\\\\\n",
    "  1 & 1\n",
    "\\end{array}\n",
    "\\qquad\n",
    "\\begin{array}{c|c}\n",
    "  a & f_3(a)\\\\\n",
    "  \\hline\n",
    "  0 & 1\\\\\n",
    "  1 & 0\n",
    "\\end{array}\n",
    "\\qquad\n",
    "\\begin{array}{c|c}\n",
    "  a & f_4(a)\\\\\n",
    "  \\hline\n",
    "  0 & 1\\\\\n",
    "  1 & 1\n",
    "\\end{array}\n",
    "$$\n",
    "\n",
    "We can create Qiskit Operators for these 4 operations, by passing their matrix representations as arguments to the `Operator` class.\n",
    "\n",
    "E.g. for constant-0 we can create the corresponding matrix m1 like so:"
   ]
  },
  {
   "cell_type": "code",
   "execution_count": 22,
   "id": "8edc4262",
   "metadata": {
    "execution": {
     "iopub.execute_input": "2023-07-18T17:00:09.323244Z",
     "iopub.status.busy": "2023-07-18T17:00:09.322422Z",
     "iopub.status.idle": "2023-07-18T17:00:09.333138Z",
     "shell.execute_reply": "2023-07-18T17:00:09.332087Z"
    },
    "papermill": {
     "duration": 0.125107,
     "end_time": "2023-07-18T17:00:09.335154",
     "exception": false,
     "start_time": "2023-07-18T17:00:09.210047",
     "status": "completed"
    },
    "tags": []
   },
   "outputs": [
    {
     "data": {
      "text/latex": [
       "$$\n",
       "\n",
       "\\begin{bmatrix}\n",
       "1 & 1  \\\\\n",
       " 0 & 0  \\\\\n",
       " \\end{bmatrix}\n",
       "$$"
      ],
      "text/plain": [
       "<IPython.core.display.Latex object>"
      ]
     },
     "execution_count": 22,
     "metadata": {},
     "output_type": "execute_result"
    }
   ],
   "source": [
    "m1 = Operator([[1,1],[0,0]])\n",
    "array_to_latex(m1)"
   ]
  },
  {
   "cell_type": "markdown",
   "id": "2792a781",
   "metadata": {
    "papermill": {
     "duration": 0.077553,
     "end_time": "2023-07-18T17:00:09.490144",
     "exception": false,
     "start_time": "2023-07-18T17:00:09.412591",
     "status": "completed"
    },
    "tags": []
   },
   "source": [
    "and similarly for m3:"
   ]
  },
  {
   "cell_type": "code",
   "execution_count": 23,
   "id": "9cc2ff6c",
   "metadata": {
    "execution": {
     "iopub.execute_input": "2023-07-18T17:00:09.649939Z",
     "iopub.status.busy": "2023-07-18T17:00:09.649520Z",
     "iopub.status.idle": "2023-07-18T17:00:09.659694Z",
     "shell.execute_reply": "2023-07-18T17:00:09.658836Z"
    },
    "papermill": {
     "duration": 0.095301,
     "end_time": "2023-07-18T17:00:09.661722",
     "exception": false,
     "start_time": "2023-07-18T17:00:09.566421",
     "status": "completed"
    },
    "tags": []
   },
   "outputs": [
    {
     "data": {
      "text/latex": [
       "$$\n",
       "\n",
       "\\begin{bmatrix}\n",
       "0 & 1  \\\\\n",
       " 1 & 0  \\\\\n",
       " \\end{bmatrix}\n",
       "$$"
      ],
      "text/plain": [
       "<IPython.core.display.Latex object>"
      ]
     },
     "execution_count": 23,
     "metadata": {},
     "output_type": "execute_result"
    }
   ],
   "source": [
    "m3 = Operator([[0,1],[1,0]])\n",
    "array_to_latex(m3)"
   ]
  },
  {
   "cell_type": "markdown",
   "id": "765e8f0e",
   "metadata": {
    "papermill": {
     "duration": 0.074296,
     "end_time": "2023-07-18T17:00:09.932573",
     "exception": false,
     "start_time": "2023-07-18T17:00:09.858277",
     "status": "completed"
    },
    "tags": []
   },
   "source": [
    "We can also use builtin python mutliplication operations (e.g. `@`, `.dot`, or `.matmul`) to check the following equation: $ M|a\\rangle = f|a\\rangle $\n",
    "\n",
    "e.g. $ M1|0\\rangle = f1|0\\rangle $ = 0"
   ]
  },
  {
   "cell_type": "code",
   "execution_count": 24,
   "id": "a283a8bd",
   "metadata": {
    "execution": {
     "iopub.execute_input": "2023-07-18T17:00:10.095471Z",
     "iopub.status.busy": "2023-07-18T17:00:10.094620Z",
     "iopub.status.idle": "2023-07-18T17:00:10.103213Z",
     "shell.execute_reply": "2023-07-18T17:00:10.102392Z"
    },
    "papermill": {
     "duration": 0.096529,
     "end_time": "2023-07-18T17:00:10.105053",
     "exception": false,
     "start_time": "2023-07-18T17:00:10.008524",
     "status": "completed"
    },
    "tags": []
   },
   "outputs": [
    {
     "data": {
      "text/latex": [
       "$$\n",
       "\n",
       "\\begin{bmatrix}\n",
       "1  \\\\\n",
       " 0  \\\\\n",
       " \\end{bmatrix}\n",
       "$$"
      ],
      "text/plain": [
       "<IPython.core.display.Latex object>"
      ]
     },
     "execution_count": 24,
     "metadata": {},
     "output_type": "execute_result"
    }
   ],
   "source": [
    "array_to_latex(m1@ket0)"
   ]
  },
  {
   "cell_type": "markdown",
   "id": "f044b3f6",
   "metadata": {
    "papermill": {
     "duration": 0.091938,
     "end_time": "2023-07-18T17:00:10.273598",
     "exception": false,
     "start_time": "2023-07-18T17:00:10.181660",
     "status": "completed"
    },
    "tags": []
   },
   "source": [
    "<div class=\"alert alert-block alert-success\"> Ex 5 - create Qiskit Operators for m2 and m4 (hint: check out the lectures to find the appropriate matrices) </div>"
   ]
  },
  {
   "cell_type": "code",
   "execution_count": 25,
   "id": "31927dfa",
   "metadata": {
    "execution": {
     "iopub.execute_input": "2023-07-18T17:00:10.430813Z",
     "iopub.status.busy": "2023-07-18T17:00:10.429810Z",
     "iopub.status.idle": "2023-07-18T17:00:10.435078Z",
     "shell.execute_reply": "2023-07-18T17:00:10.434211Z"
    },
    "papermill": {
     "duration": 0.086278,
     "end_time": "2023-07-18T17:00:10.436899",
     "exception": false,
     "start_time": "2023-07-18T17:00:10.350621",
     "status": "completed"
    },
    "tags": []
   },
   "outputs": [],
   "source": [
    "m2 = Operator([[1,0],[0,1]])# create an operator for m2 here\n",
    "m4 = Operator([[0,0],[1,1]])# create and operator for m4 here"
   ]
  },
  {
   "cell_type": "code",
   "execution_count": 26,
   "id": "62081ac6",
   "metadata": {
    "execution": {
     "iopub.execute_input": "2023-07-18T17:00:10.591302Z",
     "iopub.status.busy": "2023-07-18T17:00:10.590298Z",
     "iopub.status.idle": "2023-07-18T17:00:11.982400Z",
     "shell.execute_reply": "2023-07-18T17:00:11.981217Z"
    },
    "papermill": {
     "duration": 1.469924,
     "end_time": "2023-07-18T17:00:11.984344",
     "exception": false,
     "start_time": "2023-07-18T17:00:10.514420",
     "status": "completed"
    },
    "tags": []
   },
   "outputs": [
    {
     "name": "stdout",
     "output_type": "stream",
     "text": [
      "Submitting your answer. Please wait...\n"
     ]
    },
    {
     "name": "stdout",
     "output_type": "stream",
     "text": [
      "Congratulations 🎉! Your answer is correct and has been submitted.\n"
     ]
    }
   ],
   "source": [
    "from qc_grader.challenges.qgss_2023 import grade_lab1_ex5\n",
    "\n",
    "grade_lab1_ex5([m2, m4])"
   ]
  },
  {
   "cell_type": "markdown",
   "id": "d611468d",
   "metadata": {
    "papermill": {
     "duration": 0.075206,
     "end_time": "2023-07-18T17:00:12.153208",
     "exception": false,
     "start_time": "2023-07-18T17:00:12.078002",
     "status": "completed"
    },
    "tags": []
   },
   "source": [
    "## Probabilistic operations\n",
    "\n",
    "A Controlled-NOT (or CNOT) operation is a probabilistic operation you can apply on 2 qubits.\n",
    "\n",
    "Applying a CNOT on a state (X,Y) involves performing a NOT operation on Y when X is 1, otherwise do nothing.\n",
    "X is the control bit, Y is the target bit.\n",
    "\n",
    "We can implement a CNOT gate (and many other quantum gates) using a class from [Qiskit's circuit library](https://qiskit.org/documentation/apidoc/circuit_library.html):"
   ]
  },
  {
   "cell_type": "code",
   "execution_count": 27,
   "id": "d6aec987",
   "metadata": {
    "execution": {
     "iopub.execute_input": "2023-07-18T17:00:12.310264Z",
     "iopub.status.busy": "2023-07-18T17:00:12.309846Z",
     "iopub.status.idle": "2023-07-18T17:00:12.316901Z",
     "shell.execute_reply": "2023-07-18T17:00:12.316151Z"
    },
    "papermill": {
     "duration": 0.090326,
     "end_time": "2023-07-18T17:00:12.319031",
     "exception": false,
     "start_time": "2023-07-18T17:00:12.228705",
     "status": "completed"
    },
    "tags": []
   },
   "outputs": [
    {
     "data": {
      "text/latex": [
       "$$\n",
       "\n",
       "\\begin{bmatrix}\n",
       "1 & 0 & 0 & 0  \\\\\n",
       " 0 & 0 & 0 & 1  \\\\\n",
       " 0 & 0 & 1 & 0  \\\\\n",
       " 0 & 1 & 0 & 0  \\\\\n",
       " \\end{bmatrix}\n",
       "$$"
      ],
      "text/plain": [
       "<IPython.core.display.Latex object>"
      ]
     },
     "execution_count": 27,
     "metadata": {},
     "output_type": "execute_result"
    }
   ],
   "source": [
    "cnot = CXGate()\n",
    "\n",
    "array_to_latex(cnot)"
   ]
  },
  {
   "cell_type": "markdown",
   "id": "49ee11bb",
   "metadata": {
    "papermill": {
     "duration": 0.075964,
     "end_time": "2023-07-18T17:00:12.471618",
     "exception": false,
     "start_time": "2023-07-18T17:00:12.395654",
     "status": "completed"
    },
    "tags": []
   },
   "source": [
    "Note: this matrix is different from the one that appeared in the lesson because `CXGate()` takes the right qubit to be the control rather than the left qubit."
   ]
  },
  {
   "cell_type": "markdown",
   "id": "bd0665bc",
   "metadata": {
    "papermill": {
     "duration": 0.077321,
     "end_time": "2023-07-18T17:00:12.624765",
     "exception": false,
     "start_time": "2023-07-18T17:00:12.547444",
     "status": "completed"
    },
    "tags": []
   },
   "source": [
    "## Unitary Operations\n",
    "\n",
    "An operator is unitary if: $ UU^{\\dagger} = \\mathbb{1} = U^{\\dagger} U$\n",
    "\n",
    "We can check if an operator is Unitary using Qiskit with the `is_unitary()` method:"
   ]
  },
  {
   "cell_type": "code",
   "execution_count": 28,
   "id": "83e80fd5",
   "metadata": {
    "execution": {
     "iopub.execute_input": "2023-07-18T17:00:12.778247Z",
     "iopub.status.busy": "2023-07-18T17:00:12.777401Z",
     "iopub.status.idle": "2023-07-18T17:00:12.787166Z",
     "shell.execute_reply": "2023-07-18T17:00:12.784227Z"
    },
    "papermill": {
     "duration": 0.086629,
     "end_time": "2023-07-18T17:00:12.789066",
     "exception": false,
     "start_time": "2023-07-18T17:00:12.702437",
     "status": "completed"
    },
    "tags": []
   },
   "outputs": [
    {
     "data": {
      "text/plain": [
       "True"
      ]
     },
     "execution_count": 28,
     "metadata": {},
     "output_type": "execute_result"
    }
   ],
   "source": [
    "m3.is_unitary()"
   ]
  },
  {
   "cell_type": "markdown",
   "id": "ef61f742",
   "metadata": {
    "papermill": {
     "duration": 0.075534,
     "end_time": "2023-07-18T17:00:12.948589",
     "exception": false,
     "start_time": "2023-07-18T17:00:12.873055",
     "status": "completed"
    },
    "tags": []
   },
   "source": [
    "With small operators like m3 we could probably figure this out easily by ourselves, but with more complex operators it becomes more convenient to use the Qiskit function:"
   ]
  },
  {
   "cell_type": "code",
   "execution_count": 29,
   "id": "90fa7840",
   "metadata": {
    "execution": {
     "iopub.execute_input": "2023-07-18T17:00:13.101562Z",
     "iopub.status.busy": "2023-07-18T17:00:13.100709Z",
     "iopub.status.idle": "2023-07-18T17:00:13.108811Z",
     "shell.execute_reply": "2023-07-18T17:00:13.108066Z"
    },
    "papermill": {
     "duration": 0.089093,
     "end_time": "2023-07-18T17:00:13.111149",
     "exception": false,
     "start_time": "2023-07-18T17:00:13.022056",
     "status": "completed"
    },
    "tags": []
   },
   "outputs": [
    {
     "data": {
      "text/plain": [
       "True"
      ]
     },
     "execution_count": 29,
     "metadata": {},
     "output_type": "execute_result"
    }
   ],
   "source": [
    "random = Operator(np.array([[ 0.50778085-0.44607116j, -0.1523741 +0.14128434j,  0.44607116+0.50778085j,\n",
    "  -0.14128434-0.1523741j ],\n",
    " [ 0.16855994+0.12151822j,  0.55868196+0.38038841j, -0.12151822+0.16855994j,\n",
    "  -0.38038841+0.55868196j],\n",
    " [ 0.50778085-0.44607116j, -0.1523741 +0.14128434j, -0.44607116-0.50778085j,\n",
    "   0.14128434+0.1523741j ],\n",
    " [ 0.16855994+0.12151822j,  0.55868196+0.38038841j,  0.12151822-0.16855994j,\n",
    "   0.38038841-0.55868196j]]))\n",
    "\n",
    "random.is_unitary()"
   ]
  },
  {
   "cell_type": "markdown",
   "id": "e6778ed6",
   "metadata": {
    "papermill": {
     "duration": 0.076542,
     "end_time": "2023-07-18T17:00:13.261730",
     "exception": false,
     "start_time": "2023-07-18T17:00:13.185188",
     "status": "completed"
    },
    "tags": []
   },
   "source": [
    "<div class=\"alert alert-block alert-success\"> Ex 6 - create an operator using the `Operator` class that is not unitary </div>"
   ]
  },
  {
   "cell_type": "code",
   "execution_count": 30,
   "id": "c43f5bbf",
   "metadata": {
    "execution": {
     "iopub.execute_input": "2023-07-18T17:00:13.415590Z",
     "iopub.status.busy": "2023-07-18T17:00:13.414866Z",
     "iopub.status.idle": "2023-07-18T17:00:13.420303Z",
     "shell.execute_reply": "2023-07-18T17:00:13.419163Z"
    },
    "papermill": {
     "duration": 0.083327,
     "end_time": "2023-07-18T17:00:13.422237",
     "exception": false,
     "start_time": "2023-07-18T17:00:13.338910",
     "status": "completed"
    },
    "tags": []
   },
   "outputs": [],
   "source": [
    "non_unitary_op = Operator([[1,0,1],[1,1,1],[1,0,0]]) # create your operator here"
   ]
  },
  {
   "cell_type": "code",
   "execution_count": 31,
   "id": "c159e466",
   "metadata": {
    "execution": {
     "iopub.execute_input": "2023-07-18T17:00:13.575632Z",
     "iopub.status.busy": "2023-07-18T17:00:13.575239Z",
     "iopub.status.idle": "2023-07-18T17:00:14.922454Z",
     "shell.execute_reply": "2023-07-18T17:00:14.921543Z"
    },
    "papermill": {
     "duration": 1.426602,
     "end_time": "2023-07-18T17:00:14.924262",
     "exception": false,
     "start_time": "2023-07-18T17:00:13.497660",
     "status": "completed"
    },
    "tags": []
   },
   "outputs": [
    {
     "name": "stdout",
     "output_type": "stream",
     "text": [
      "Submitting your answer. Please wait...\n"
     ]
    },
    {
     "name": "stdout",
     "output_type": "stream",
     "text": [
      "Congratulations 🎉! Your answer is correct and has been submitted.\n"
     ]
    }
   ],
   "source": [
    "from qc_grader.challenges.qgss_2023 import grade_lab1_ex6\n",
    "\n",
    "grade_lab1_ex6(non_unitary_op)"
   ]
  },
  {
   "cell_type": "markdown",
   "id": "220179f8",
   "metadata": {
    "papermill": {
     "duration": 0.080607,
     "end_time": "2023-07-18T17:00:15.094522",
     "exception": false,
     "start_time": "2023-07-18T17:00:15.013915",
     "status": "completed"
    },
    "tags": []
   },
   "source": [
    "### Qubit Unitary Operations - Pauli Operations\n",
    "\n",
    "Some of the most common unitary operations in quantum computing are the Pauli operations. Qiskit's `Pauli` classes make it easy to interact with Pauli operators in code:"
   ]
  },
  {
   "cell_type": "markdown",
   "id": "26c5fec2",
   "metadata": {
    "papermill": {
     "duration": 0.076146,
     "end_time": "2023-07-18T17:00:15.249884",
     "exception": false,
     "start_time": "2023-07-18T17:00:15.173738",
     "status": "completed"
    },
    "tags": []
   },
   "source": [
    "E.g. Pauli X ($\\sigma_x$), the bit flip:"
   ]
  },
  {
   "cell_type": "code",
   "execution_count": 32,
   "id": "290462f3",
   "metadata": {
    "execution": {
     "iopub.execute_input": "2023-07-18T17:00:15.404036Z",
     "iopub.status.busy": "2023-07-18T17:00:15.403356Z",
     "iopub.status.idle": "2023-07-18T17:00:15.414521Z",
     "shell.execute_reply": "2023-07-18T17:00:15.413512Z"
    },
    "papermill": {
     "duration": 0.088614,
     "end_time": "2023-07-18T17:00:15.416326",
     "exception": false,
     "start_time": "2023-07-18T17:00:15.327712",
     "status": "completed"
    },
    "tags": []
   },
   "outputs": [
    {
     "data": {
      "text/latex": [
       "$$\n",
       "\n",
       "\\begin{bmatrix}\n",
       "0 & 1  \\\\\n",
       " 1 & 0  \\\\\n",
       " \\end{bmatrix}\n",
       "$$"
      ],
      "text/plain": [
       "<IPython.core.display.Latex object>"
      ]
     },
     "execution_count": 32,
     "metadata": {},
     "output_type": "execute_result"
    }
   ],
   "source": [
    "pauli_x = Pauli('X')\n",
    "\n",
    "array_to_latex(pauli_x)"
   ]
  },
  {
   "cell_type": "markdown",
   "id": "ff2d5d30",
   "metadata": {
    "papermill": {
     "duration": 0.083989,
     "end_time": "2023-07-18T17:00:15.575832",
     "exception": false,
     "start_time": "2023-07-18T17:00:15.491843",
     "status": "completed"
    },
    "tags": []
   },
   "source": [
    "Pauli Y ($\\sigma_y$):"
   ]
  },
  {
   "cell_type": "code",
   "execution_count": 33,
   "id": "21b32f55",
   "metadata": {
    "execution": {
     "iopub.execute_input": "2023-07-18T17:00:15.760283Z",
     "iopub.status.busy": "2023-07-18T17:00:15.759655Z",
     "iopub.status.idle": "2023-07-18T17:00:16.126637Z",
     "shell.execute_reply": "2023-07-18T17:00:16.125447Z"
    },
    "papermill": {
     "duration": 0.466836,
     "end_time": "2023-07-18T17:00:16.128919",
     "exception": false,
     "start_time": "2023-07-18T17:00:15.662083",
     "status": "completed"
    },
    "tags": []
   },
   "outputs": [
    {
     "data": {
      "text/latex": [
       "$$\n",
       "\n",
       "\\begin{bmatrix}\n",
       "0 & - i  \\\\\n",
       " i & 0  \\\\\n",
       " \\end{bmatrix}\n",
       "$$"
      ],
      "text/plain": [
       "<IPython.core.display.Latex object>"
      ]
     },
     "execution_count": 33,
     "metadata": {},
     "output_type": "execute_result"
    }
   ],
   "source": [
    "pauli_y = Pauli('Y')\n",
    "\n",
    "array_to_latex(pauli_y)"
   ]
  },
  {
   "cell_type": "markdown",
   "id": "c9850043",
   "metadata": {
    "papermill": {
     "duration": 0.078095,
     "end_time": "2023-07-18T17:00:16.294332",
     "exception": false,
     "start_time": "2023-07-18T17:00:16.216237",
     "status": "completed"
    },
    "tags": []
   },
   "source": [
    "Pauli Z ($\\sigma_z$), the phase flip:"
   ]
  },
  {
   "cell_type": "code",
   "execution_count": 34,
   "id": "9df1dff2",
   "metadata": {
    "execution": {
     "iopub.execute_input": "2023-07-18T17:00:16.474844Z",
     "iopub.status.busy": "2023-07-18T17:00:16.474446Z",
     "iopub.status.idle": "2023-07-18T17:00:16.485556Z",
     "shell.execute_reply": "2023-07-18T17:00:16.484640Z"
    },
    "papermill": {
     "duration": 0.091096,
     "end_time": "2023-07-18T17:00:16.487513",
     "exception": false,
     "start_time": "2023-07-18T17:00:16.396417",
     "status": "completed"
    },
    "tags": []
   },
   "outputs": [
    {
     "data": {
      "text/latex": [
       "$$\n",
       "\n",
       "\\begin{bmatrix}\n",
       "1 & 0  \\\\\n",
       " 0 & -1  \\\\\n",
       " \\end{bmatrix}\n",
       "$$"
      ],
      "text/plain": [
       "<IPython.core.display.Latex object>"
      ]
     },
     "execution_count": 34,
     "metadata": {},
     "output_type": "execute_result"
    }
   ],
   "source": [
    "pauli_z = Pauli('Z')\n",
    "\n",
    "array_to_latex(pauli_z)"
   ]
  },
  {
   "cell_type": "markdown",
   "id": "bdfa41f0",
   "metadata": {
    "papermill": {
     "duration": 0.079042,
     "end_time": "2023-07-18T17:00:16.645070",
     "exception": false,
     "start_time": "2023-07-18T17:00:16.566028",
     "status": "completed"
    },
    "tags": []
   },
   "source": [
    "We can use the `Operator` class with the `Pauli` class:"
   ]
  },
  {
   "cell_type": "code",
   "execution_count": 35,
   "id": "71eb657f",
   "metadata": {
    "execution": {
     "iopub.execute_input": "2023-07-18T17:00:16.800900Z",
     "iopub.status.busy": "2023-07-18T17:00:16.799935Z",
     "iopub.status.idle": "2023-07-18T17:00:16.807450Z",
     "shell.execute_reply": "2023-07-18T17:00:16.806607Z"
    },
    "papermill": {
     "duration": 0.088176,
     "end_time": "2023-07-18T17:00:16.809640",
     "exception": false,
     "start_time": "2023-07-18T17:00:16.721464",
     "status": "completed"
    },
    "tags": []
   },
   "outputs": [
    {
     "data": {
      "text/plain": [
       "Operator([[0.+0.j, 1.+0.j],\n",
       "          [1.+0.j, 0.+0.j]],\n",
       "         input_dims=(2,), output_dims=(2,))"
      ]
     },
     "execution_count": 35,
     "metadata": {},
     "output_type": "execute_result"
    }
   ],
   "source": [
    "op_x = Operator(pauli_x)\n",
    "\n",
    "op_x"
   ]
  },
  {
   "cell_type": "markdown",
   "id": "22a1dc55",
   "metadata": {
    "papermill": {
     "duration": 0.076327,
     "end_time": "2023-07-18T17:00:16.963502",
     "exception": false,
     "start_time": "2023-07-18T17:00:16.887175",
     "status": "completed"
    },
    "tags": []
   },
   "source": [
    "Let's use the `Operator` class and numpy to find the outcome of $\\sigma_x|0\\rangle$"
   ]
  },
  {
   "cell_type": "code",
   "execution_count": 36,
   "id": "a3b46f65",
   "metadata": {
    "execution": {
     "iopub.execute_input": "2023-07-18T17:00:17.126102Z",
     "iopub.status.busy": "2023-07-18T17:00:17.125206Z",
     "iopub.status.idle": "2023-07-18T17:00:17.133798Z",
     "shell.execute_reply": "2023-07-18T17:00:17.133046Z"
    },
    "papermill": {
     "duration": 0.096107,
     "end_time": "2023-07-18T17:00:17.135769",
     "exception": false,
     "start_time": "2023-07-18T17:00:17.039662",
     "status": "completed"
    },
    "tags": []
   },
   "outputs": [
    {
     "data": {
      "text/latex": [
       "$$\n",
       "\n",
       "\\begin{bmatrix}\n",
       "0  \\\\\n",
       " 1  \\\\\n",
       " \\end{bmatrix}\n",
       "$$"
      ],
      "text/plain": [
       "<IPython.core.display.Latex object>"
      ]
     },
     "execution_count": 36,
     "metadata": {},
     "output_type": "execute_result"
    }
   ],
   "source": [
    "op_new = np.dot(op_x,ket0)\n",
    "\n",
    "array_to_latex(op_new)"
   ]
  },
  {
   "cell_type": "markdown",
   "id": "0434735a",
   "metadata": {
    "papermill": {
     "duration": 0.109418,
     "end_time": "2023-07-18T17:00:17.344374",
     "exception": false,
     "start_time": "2023-07-18T17:00:17.234956",
     "status": "completed"
    },
    "tags": []
   },
   "source": [
    "<div class=\"alert alert-block alert-success\"> Ex 7 - Apply the Pauli-Z operator on $|1\\rangle$ </div>"
   ]
  },
  {
   "cell_type": "code",
   "execution_count": 37,
   "id": "11ea5267",
   "metadata": {
    "execution": {
     "iopub.execute_input": "2023-07-18T17:00:17.553116Z",
     "iopub.status.busy": "2023-07-18T17:00:17.552084Z",
     "iopub.status.idle": "2023-07-18T17:00:17.563536Z",
     "shell.execute_reply": "2023-07-18T17:00:17.562642Z"
    },
    "papermill": {
     "duration": 0.094058,
     "end_time": "2023-07-18T17:00:17.565666",
     "exception": false,
     "start_time": "2023-07-18T17:00:17.471608",
     "status": "completed"
    },
    "tags": []
   },
   "outputs": [
    {
     "data": {
      "text/latex": [
       "$$\n",
       "\n",
       "\\begin{bmatrix}\n",
       "0  \\\\\n",
       " -1  \\\\\n",
       " \\end{bmatrix}\n",
       "$$"
      ],
      "text/plain": [
       "<IPython.core.display.Latex object>"
      ]
     },
     "execution_count": 37,
     "metadata": {},
     "output_type": "execute_result"
    }
   ],
   "source": [
    "op_z = Operator(pauli_z)\n",
    "result =np.dot(op_z, ket1) # do your operations here\n",
    "array_to_latex(result)"
   ]
  },
  {
   "cell_type": "code",
   "execution_count": 38,
   "id": "694825bd",
   "metadata": {
    "execution": {
     "iopub.execute_input": "2023-07-18T17:00:17.756563Z",
     "iopub.status.busy": "2023-07-18T17:00:17.755622Z",
     "iopub.status.idle": "2023-07-18T17:00:19.220085Z",
     "shell.execute_reply": "2023-07-18T17:00:19.218915Z"
    },
    "papermill": {
     "duration": 1.544379,
     "end_time": "2023-07-18T17:00:19.222011",
     "exception": false,
     "start_time": "2023-07-18T17:00:17.677632",
     "status": "completed"
    },
    "tags": []
   },
   "outputs": [
    {
     "name": "stdout",
     "output_type": "stream",
     "text": [
      "Submitting your answer. Please wait...\n"
     ]
    },
    {
     "name": "stdout",
     "output_type": "stream",
     "text": [
      "Congratulations 🎉! Your answer is correct and has been submitted.\n"
     ]
    }
   ],
   "source": [
    "from qc_grader.challenges.qgss_2023 import grade_lab1_ex7\n",
    "\n",
    "grade_lab1_ex7(result)"
   ]
  },
  {
   "cell_type": "markdown",
   "id": "677ab1ec",
   "metadata": {
    "papermill": {
     "duration": 0.077221,
     "end_time": "2023-07-18T17:00:19.381232",
     "exception": false,
     "start_time": "2023-07-18T17:00:19.304011",
     "status": "completed"
    },
    "tags": []
   },
   "source": [
    "### Qubit Unitary Operations - Hadamard\n"
   ]
  },
  {
   "cell_type": "markdown",
   "id": "1fa9f846",
   "metadata": {
    "papermill": {
     "duration": 0.075827,
     "end_time": "2023-07-18T17:00:19.531611",
     "exception": false,
     "start_time": "2023-07-18T17:00:19.455784",
     "status": "completed"
    },
    "tags": []
   },
   "source": [
    "The Hadamard gate is one of the most important unitary operations in quantum computing. We can implement a Hadamard gate (and many other quantum gates) using a class from [Qiskit's circuit library](https://qiskit.org/documentation/apidoc/circuit_library.html):"
   ]
  },
  {
   "cell_type": "code",
   "execution_count": 39,
   "id": "74251a81",
   "metadata": {
    "execution": {
     "iopub.execute_input": "2023-07-18T17:00:19.724009Z",
     "iopub.status.busy": "2023-07-18T17:00:19.723570Z",
     "iopub.status.idle": "2023-07-18T17:00:19.746948Z",
     "shell.execute_reply": "2023-07-18T17:00:19.745665Z"
    },
    "papermill": {
     "duration": 0.13611,
     "end_time": "2023-07-18T17:00:19.749003",
     "exception": false,
     "start_time": "2023-07-18T17:00:19.612893",
     "status": "completed"
    },
    "tags": []
   },
   "outputs": [
    {
     "data": {
      "text/latex": [
       "$$\n",
       "\n",
       "\\begin{bmatrix}\n",
       "\\frac{\\sqrt{2}}{2} & \\frac{\\sqrt{2}}{2}  \\\\\n",
       " \\frac{\\sqrt{2}}{2} & - \\frac{\\sqrt{2}}{2}  \\\\\n",
       " \\end{bmatrix}\n",
       "$$"
      ],
      "text/plain": [
       "<IPython.core.display.Latex object>"
      ]
     },
     "execution_count": 39,
     "metadata": {},
     "output_type": "execute_result"
    }
   ],
   "source": [
    "hadamard = HGate()\n",
    "\n",
    "array_to_latex(hadamard)"
   ]
  },
  {
   "cell_type": "markdown",
   "id": "08b41da3",
   "metadata": {
    "papermill": {
     "duration": 0.078145,
     "end_time": "2023-07-18T17:00:19.932823",
     "exception": false,
     "start_time": "2023-07-18T17:00:19.854678",
     "status": "completed"
    },
    "tags": []
   },
   "source": [
    "You can convert many Qiskit classes to operators to make use of functions specific to the `Operator` class, such as `is_unitary`"
   ]
  },
  {
   "cell_type": "code",
   "execution_count": 40,
   "id": "ebc2f8df",
   "metadata": {
    "execution": {
     "iopub.execute_input": "2023-07-18T17:00:20.097042Z",
     "iopub.status.busy": "2023-07-18T17:00:20.096632Z",
     "iopub.status.idle": "2023-07-18T17:00:20.106988Z",
     "shell.execute_reply": "2023-07-18T17:00:20.103533Z"
    },
    "papermill": {
     "duration": 0.098875,
     "end_time": "2023-07-18T17:00:20.108961",
     "exception": false,
     "start_time": "2023-07-18T17:00:20.010086",
     "status": "completed"
    },
    "tags": []
   },
   "outputs": [
    {
     "data": {
      "text/plain": [
       "True"
      ]
     },
     "execution_count": 40,
     "metadata": {},
     "output_type": "execute_result"
    }
   ],
   "source": [
    "hop = Operator(hadamard)\n",
    "hop.is_unitary()"
   ]
  },
  {
   "cell_type": "markdown",
   "id": "aa5207cc",
   "metadata": {
    "papermill": {
     "duration": 0.079655,
     "end_time": "2023-07-18T17:00:20.266069",
     "exception": false,
     "start_time": "2023-07-18T17:00:20.186414",
     "status": "completed"
    },
    "tags": []
   },
   "source": [
    "## Quantum Circuits\n",
    "\n",
    "In the lectures you learned how to create a Quantum Circuit using a CNOT and a Hadamard gate. This circuit creates the Bell State $|\\phi^+\\rangle$. We can implement this using Qiskit's `QuantumCircuit` class:"
   ]
  },
  {
   "cell_type": "code",
   "execution_count": 41,
   "id": "c1b3e5a9",
   "metadata": {
    "execution": {
     "iopub.execute_input": "2023-07-18T17:00:20.437405Z",
     "iopub.status.busy": "2023-07-18T17:00:20.436976Z",
     "iopub.status.idle": "2023-07-18T17:00:21.294404Z",
     "shell.execute_reply": "2023-07-18T17:00:21.293384Z"
    },
    "papermill": {
     "duration": 0.939607,
     "end_time": "2023-07-18T17:00:21.296494",
     "exception": false,
     "start_time": "2023-07-18T17:00:20.356887",
     "status": "completed"
    },
    "tags": []
   },
   "outputs": [
    {
     "data": {
      "image/png": "[encoded data removed]",
      "text/plain": [
       "<Figure size 287.294x200.667 with 1 Axes>"
      ]
     },
     "execution_count": 41,
     "metadata": {},
     "output_type": "execute_result"
    }
   ],
   "source": [
    "bell = QuantumCircuit(2)\n",
    "\n",
    "bell.h(0) # apply an H gate to the circuit\n",
    "bell.cx(0,1) # apply a CNOT gate to the circuit\n",
    "\n",
    "bell.draw(output=\"mpl\")"
   ]
  },
  {
   "cell_type": "markdown",
   "id": "1b2a93c8",
   "metadata": {
    "papermill": {
     "duration": 0.077274,
     "end_time": "2023-07-18T17:00:21.458966",
     "exception": false,
     "start_time": "2023-07-18T17:00:21.381692",
     "status": "completed"
    },
    "tags": []
   },
   "source": [
    "If we want to check what the matrix representation is of this quantum state we can convert the circuit directly to an operator:"
   ]
  },
  {
   "cell_type": "code",
   "execution_count": 42,
   "id": "ac8dab7c",
   "metadata": {
    "execution": {
     "iopub.execute_input": "2023-07-18T17:00:21.655530Z",
     "iopub.status.busy": "2023-07-18T17:00:21.654857Z",
     "iopub.status.idle": "2023-07-18T17:00:21.695206Z",
     "shell.execute_reply": "2023-07-18T17:00:21.694025Z"
    },
    "papermill": {
     "duration": 0.157158,
     "end_time": "2023-07-18T17:00:21.697272",
     "exception": false,
     "start_time": "2023-07-18T17:00:21.540114",
     "status": "completed"
    },
    "tags": []
   },
   "outputs": [
    {
     "data": {
      "text/latex": [
       "$$\n",
       "\n",
       "\\begin{bmatrix}\n",
       "\\frac{\\sqrt{2}}{2} & \\frac{\\sqrt{2}}{2} & 0 & 0  \\\\\n",
       " 0 & 0 & \\frac{\\sqrt{2}}{2} & - \\frac{\\sqrt{2}}{2}  \\\\\n",
       " 0 & 0 & \\frac{\\sqrt{2}}{2} & \\frac{\\sqrt{2}}{2}  \\\\\n",
       " \\frac{\\sqrt{2}}{2} & - \\frac{\\sqrt{2}}{2} & 0 & 0  \\\\\n",
       " \\end{bmatrix}\n",
       "$$"
      ],
      "text/plain": [
       "<IPython.core.display.Latex object>"
      ]
     },
     "execution_count": 42,
     "metadata": {},
     "output_type": "execute_result"
    }
   ],
   "source": [
    "bell_op = Operator(bell)\n",
    "\n",
    "array_to_latex(bell_op)"
   ]
  },
  {
   "cell_type": "markdown",
   "id": "b2487769",
   "metadata": {
    "papermill": {
     "duration": 0.07906,
     "end_time": "2023-07-18T17:00:21.853864",
     "exception": false,
     "start_time": "2023-07-18T17:00:21.774804",
     "status": "completed"
    },
    "tags": []
   },
   "source": [
    "<div class=\"alert alert-block alert-success\"> Ex 8 - the GHZ state is similar to the Bell State but applied to 3 qubits. Create a quantum circuit outputting the GHZ state </div>"
   ]
  },
  {
   "cell_type": "code",
   "execution_count": 43,
   "id": "f7469f9f",
   "metadata": {
    "execution": {
     "iopub.execute_input": "2023-07-18T17:00:22.037783Z",
     "iopub.status.busy": "2023-07-18T17:00:22.037387Z",
     "iopub.status.idle": "2023-07-18T17:00:22.200170Z",
     "shell.execute_reply": "2023-07-18T17:00:22.199356Z"
    },
    "papermill": {
     "duration": 0.271353,
     "end_time": "2023-07-18T17:00:22.203136",
     "exception": false,
     "start_time": "2023-07-18T17:00:21.931783",
     "status": "completed"
    },
    "tags": []
   },
   "outputs": [
    {
     "data": {
      "image/png": "[encoded data removed]",
      "text/plain": [
       "<Figure size 371.107x284.278 with 1 Axes>"
      ]
     },
     "execution_count": 43,
     "metadata": {},
     "output_type": "execute_result"
    }
   ],
   "source": [
    "ghz = QuantumCircuit(3)\n",
    "ghz.h(0)\n",
    "ghz.cx([0,0],[1,2])\n",
    "##############################\n",
    "# add gates to your circuit here\n",
    "\n",
    "\n",
    "\n",
    "##############################\n",
    "\n",
    "ghz.draw(output='mpl')"
   ]
  },
  {
   "cell_type": "code",
   "execution_count": 44,
   "id": "ffb9113c",
   "metadata": {
    "execution": {
     "iopub.execute_input": "2023-07-18T17:00:22.380131Z",
     "iopub.status.busy": "2023-07-18T17:00:22.379413Z",
     "iopub.status.idle": "2023-07-18T17:00:23.630447Z",
     "shell.execute_reply": "2023-07-18T17:00:23.629587Z"
    },
    "papermill": {
     "duration": 1.335961,
     "end_time": "2023-07-18T17:00:23.632454",
     "exception": false,
     "start_time": "2023-07-18T17:00:22.296493",
     "status": "completed"
    },
    "tags": []
   },
   "outputs": [
    {
     "name": "stdout",
     "output_type": "stream",
     "text": [
      "Submitting your answer. Please wait...\n"
     ]
    },
    {
     "name": "stdout",
     "output_type": "stream",
     "text": [
      "Congratulations 🎉! Your answer is correct and has been submitted.\n"
     ]
    }
   ],
   "source": [
    "from qc_grader.challenges.qgss_2023 import grade_lab1_ex8\n",
    "\n",
    "grade_lab1_ex8(ghz)"
   ]
  },
  {
   "cell_type": "markdown",
   "id": "dec5eb53",
   "metadata": {
    "papermill": {
     "duration": 0.083327,
     "end_time": "2023-07-18T17:00:23.798673",
     "exception": false,
     "start_time": "2023-07-18T17:00:23.715346",
     "status": "completed"
    },
    "tags": []
   },
   "source": [
    "## Measuring Quantum states"
   ]
  },
  {
   "cell_type": "markdown",
   "id": "9d05a3cb",
   "metadata": {
    "papermill": {
     "duration": 0.080662,
     "end_time": "2023-07-18T17:00:23.961763",
     "exception": false,
     "start_time": "2023-07-18T17:00:23.881101",
     "status": "completed"
    },
    "tags": []
   },
   "source": [
    "As explained in the lectures you can find the probability of measurement outcomes by taking the absolute value squared of the entries of a quantum state vector.\n",
    "\n",
    "For example, when measuring the + state:  \n",
    "\n",
    "$ |+\\rangle = \\frac{1}{\\sqrt2}|0\\rangle + \\frac{1}{\\sqrt2}|1\\rangle $\n",
    "\n",
    "The probability of measuring 0 or 1 is given by the following:\n",
    "\n",
    "$ Pr(0) = |\\frac{1}{\\sqrt2}|^2 = \\frac{1}{2}$  \n",
    "$ Pr(1) = |\\frac{1}{\\sqrt2}|^2 = \\frac{1}{2}$"
   ]
  },
  {
   "cell_type": "markdown",
   "id": "09b17e63",
   "metadata": {
    "papermill": {
     "duration": 0.087988,
     "end_time": "2023-07-18T17:00:24.132226",
     "exception": false,
     "start_time": "2023-07-18T17:00:24.044238",
     "status": "completed"
    },
    "tags": []
   },
   "source": [
    "Let's create a $|+\\rangle$ using the `Statevector` class:"
   ]
  },
  {
   "cell_type": "code",
   "execution_count": 45,
   "id": "819fdc56",
   "metadata": {
    "execution": {
     "iopub.execute_input": "2023-07-18T17:00:24.297116Z",
     "iopub.status.busy": "2023-07-18T17:00:24.296189Z",
     "iopub.status.idle": "2023-07-18T17:00:24.311008Z",
     "shell.execute_reply": "2023-07-18T17:00:24.310297Z"
    },
    "papermill": {
     "duration": 0.095715,
     "end_time": "2023-07-18T17:00:24.312820",
     "exception": false,
     "start_time": "2023-07-18T17:00:24.217105",
     "status": "completed"
    },
    "tags": []
   },
   "outputs": [
    {
     "data": {
      "text/latex": [
       "$$\\frac{\\sqrt{2}}{2} |0\\rangle+\\frac{\\sqrt{2}}{2} |1\\rangle$$"
      ],
      "text/plain": [
       "<IPython.core.display.Latex object>"
      ]
     },
     "execution_count": 45,
     "metadata": {},
     "output_type": "execute_result"
    }
   ],
   "source": [
    "plus_state = Statevector.from_label(\"+\")\n",
    "\n",
    "plus_state.draw('latex')"
   ]
  },
  {
   "cell_type": "code",
   "execution_count": 46,
   "id": "4c7849e7",
   "metadata": {
    "execution": {
     "iopub.execute_input": "2023-07-18T17:00:24.476482Z",
     "iopub.status.busy": "2023-07-18T17:00:24.475556Z",
     "iopub.status.idle": "2023-07-18T17:00:24.485603Z",
     "shell.execute_reply": "2023-07-18T17:00:24.484667Z"
    },
    "papermill": {
     "duration": 0.097299,
     "end_time": "2023-07-18T17:00:24.487911",
     "exception": false,
     "start_time": "2023-07-18T17:00:24.390612",
     "status": "completed"
    },
    "tags": []
   },
   "outputs": [
    {
     "name": "stdout",
     "output_type": "stream",
     "text": [
      "Statevector([0.70710678+0.j, 0.70710678+0.j],\n",
      "            dims=(2,))\n"
     ]
    }
   ],
   "source": [
    "plus_state"
   ]
  },
  {
   "cell_type": "markdown",
   "id": "e9367460",
   "metadata": {
    "papermill": {
     "duration": 0.083299,
     "end_time": "2023-07-18T17:00:24.653422",
     "exception": false,
     "start_time": "2023-07-18T17:00:24.570123",
     "status": "completed"
    },
    "tags": []
   },
   "source": [
    "Now we can get the probability of measuring 0 or 1:"
   ]
  },
  {
   "cell_type": "code",
   "execution_count": 47,
   "id": "4b954ae3",
   "metadata": {
    "execution": {
     "iopub.execute_input": "2023-07-18T17:00:24.830148Z",
     "iopub.status.busy": "2023-07-18T17:00:24.829259Z",
     "iopub.status.idle": "2023-07-18T17:00:24.836292Z",
     "shell.execute_reply": "2023-07-18T17:00:24.835460Z"
    },
    "papermill": {
     "duration": 0.094504,
     "end_time": "2023-07-18T17:00:24.838429",
     "exception": false,
     "start_time": "2023-07-18T17:00:24.743925",
     "status": "completed"
    },
    "tags": []
   },
   "outputs": [
    {
     "data": {
      "text/plain": [
       "{'0': 0.4999999999999999, '1': 0.4999999999999999}"
      ]
     },
     "execution_count": 47,
     "metadata": {},
     "output_type": "execute_result"
    }
   ],
   "source": [
    "plus_state.probabilities_dict()"
   ]
  },
  {
   "cell_type": "markdown",
   "id": "62b9c13c",
   "metadata": {
    "papermill": {
     "duration": 0.0818,
     "end_time": "2023-07-18T17:00:25.000338",
     "exception": false,
     "start_time": "2023-07-18T17:00:24.918538",
     "status": "completed"
    },
    "tags": []
   },
   "source": [
    "The dictionary object above shows you all the possible measurement outcomes and what the probability is of getting them. The actual act of measuring forces the state to collapse into either the 0 or 1 state:"
   ]
  },
  {
   "cell_type": "code",
   "execution_count": 48,
   "id": "546166ed",
   "metadata": {
    "execution": {
     "iopub.execute_input": "2023-07-18T17:00:25.203646Z",
     "iopub.status.busy": "2023-07-18T17:00:25.203263Z",
     "iopub.status.idle": "2023-07-18T17:00:25.212906Z",
     "shell.execute_reply": "2023-07-18T17:00:25.211694Z"
    },
    "papermill": {
     "duration": 0.098057,
     "end_time": "2023-07-18T17:00:25.215194",
     "exception": false,
     "start_time": "2023-07-18T17:00:25.117137",
     "status": "completed"
    },
    "tags": []
   },
   "outputs": [
    {
     "data": {
      "text/plain": [
       "('0',\n",
       " Statevector([1.+0.j, 0.+0.j],\n",
       "             dims=(2,)))"
      ]
     },
     "execution_count": 48,
     "metadata": {},
     "output_type": "execute_result"
    }
   ],
   "source": [
    "# run this cell multiple times to show collapsing into one state or the other\n",
    "res = plus_state.measure()\n",
    "\n",
    "res"
   ]
  },
  {
   "cell_type": "markdown",
   "id": "cbf9efbb",
   "metadata": {
    "papermill": {
     "duration": 0.079528,
     "end_time": "2023-07-18T17:00:25.374403",
     "exception": false,
     "start_time": "2023-07-18T17:00:25.294875",
     "status": "completed"
    },
    "tags": []
   },
   "source": [
    "We can implement the same $|+\\rangle$ state with measurement using a quantum circuit:"
   ]
  },
  {
   "cell_type": "code",
   "execution_count": 49,
   "id": "6af8a51d",
   "metadata": {
    "execution": {
     "iopub.execute_input": "2023-07-18T17:00:25.554284Z",
     "iopub.status.busy": "2023-07-18T17:00:25.553828Z",
     "iopub.status.idle": "2023-07-18T17:00:25.720455Z",
     "shell.execute_reply": "2023-07-18T17:00:25.688584Z"
    },
    "papermill": {
     "duration": 0.265799,
     "end_time": "2023-07-18T17:00:25.723876",
     "exception": false,
     "start_time": "2023-07-18T17:00:25.458077",
     "status": "completed"
    },
    "tags": []
   },
   "outputs": [
    {
     "data": {
      "image/png": "[encoded data removed]",
      "text/plain": [
       "<Figure size 269.064x200.667 with 1 Axes>"
      ]
     },
     "execution_count": 49,
     "metadata": {},
     "output_type": "execute_result"
    }
   ],
   "source": [
    "qc = QuantumCircuit(1,1)\n",
    "qc.h(0)\n",
    "qc.measure(0, 0)\n",
    "\n",
    "qc.draw(output=\"mpl\")"
   ]
  },
  {
   "cell_type": "markdown",
   "id": "84e3a739",
   "metadata": {
    "papermill": {
     "duration": 0.083467,
     "end_time": "2023-07-18T17:00:25.904408",
     "exception": false,
     "start_time": "2023-07-18T17:00:25.820941",
     "status": "completed"
    },
    "tags": []
   },
   "source": [
    "If we ran this circuit using a simulator we would get the same results as we did with the statevector class."
   ]
  },
  {
   "cell_type": "markdown",
   "id": "f3abea6e",
   "metadata": {
    "papermill": {
     "duration": 0.084575,
     "end_time": "2023-07-18T17:00:26.073530",
     "exception": false,
     "start_time": "2023-07-18T17:00:25.988955",
     "status": "completed"
    },
    "tags": []
   },
   "source": [
    "In the next example, let's use the `Statevector` class to find the measurement outcomes for a dependent, probabilistic state. We'll find the measurement probilities for the 2-qubit Bell State $|\\phi^+\\rangle$ :"
   ]
  },
  {
   "cell_type": "code",
   "execution_count": 50,
   "id": "f0c6e31d",
   "metadata": {
    "execution": {
     "iopub.execute_input": "2023-07-18T17:00:26.257245Z",
     "iopub.status.busy": "2023-07-18T17:00:26.256836Z",
     "iopub.status.idle": "2023-07-18T17:00:26.273005Z",
     "shell.execute_reply": "2023-07-18T17:00:26.272113Z"
    },
    "papermill": {
     "duration": 0.102736,
     "end_time": "2023-07-18T17:00:26.275422",
     "exception": false,
     "start_time": "2023-07-18T17:00:26.172686",
     "status": "completed"
    },
    "tags": []
   },
   "outputs": [
    {
     "data": {
      "text/latex": [
       "$$\\frac{\\sqrt{2}}{2} |00\\rangle+\\frac{\\sqrt{2}}{2} |11\\rangle$$"
      ],
      "text/plain": [
       "<IPython.core.display.Latex object>"
      ]
     },
     "execution_count": 50,
     "metadata": {},
     "output_type": "execute_result"
    }
   ],
   "source": [
    "sv_bell = Statevector([np.sqrt(1/2), 0, 0, np.sqrt(1/2)])\n",
    "\n",
    "sv_bell.draw('latex')"
   ]
  },
  {
   "cell_type": "code",
   "execution_count": 51,
   "id": "60aca301",
   "metadata": {
    "execution": {
     "iopub.execute_input": "2023-07-18T17:00:26.466552Z",
     "iopub.status.busy": "2023-07-18T17:00:26.465495Z",
     "iopub.status.idle": "2023-07-18T17:00:26.472290Z",
     "shell.execute_reply": "2023-07-18T17:00:26.471361Z"
    },
    "papermill": {
     "duration": 0.117048,
     "end_time": "2023-07-18T17:00:26.474333",
     "exception": false,
     "start_time": "2023-07-18T17:00:26.357285",
     "status": "completed"
    },
    "tags": []
   },
   "outputs": [
    {
     "data": {
      "text/plain": [
       "{'00': 0.5000000000000001, '11': 0.5000000000000001}"
      ]
     },
     "execution_count": 51,
     "metadata": {},
     "output_type": "execute_result"
    }
   ],
   "source": [
    "sv_bell.probabilities_dict()"
   ]
  },
  {
   "cell_type": "markdown",
   "id": "734489ba",
   "metadata": {
    "papermill": {
     "duration": 0.110524,
     "end_time": "2023-07-18T17:00:26.662234",
     "exception": false,
     "start_time": "2023-07-18T17:00:26.551710",
     "status": "completed"
    },
    "tags": []
   },
   "source": [
    "<div class=\"alert alert-block alert-success\"> Ex 9 - Using the Statevector class find the probabilities for the other 3 states in the Bell Basis: $|\\psi^+\\rangle$, $|\\psi^-\\rangle$, $|\\phi^-\\rangle$. Hint: check out lesson 2 to refresh your memory on the equations of the Bell states </div>"
   ]
  },
  {
   "cell_type": "code",
   "execution_count": 52,
   "id": "119714dd",
   "metadata": {
    "execution": {
     "iopub.execute_input": "2023-07-18T17:00:26.833132Z",
     "iopub.status.busy": "2023-07-18T17:00:26.832714Z",
     "iopub.status.idle": "2023-07-18T17:00:26.840693Z",
     "shell.execute_reply": "2023-07-18T17:00:26.839900Z"
    },
    "papermill": {
     "duration": 0.097491,
     "end_time": "2023-07-18T17:00:26.842644",
     "exception": false,
     "start_time": "2023-07-18T17:00:26.745153",
     "status": "completed"
    },
    "tags": []
   },
   "outputs": [],
   "source": [
    "sv_psi_plus = Statevector([0, np.sqrt(1/2), np.sqrt(1/2), 0]) # create a statevector for |𝜓+⟩ here\n",
    "prob_psi_plus = sv_psi_plus.probabilities_dict()# find the measurement probabilities for |𝜓+⟩ here\n",
    "\n",
    "sv_psi_minus = Statevector([0, np.sqrt(1/2), -np.sqrt(1/2), 0]) # create a statevector for |𝜓−⟩ here\n",
    "prob_psi_minus = sv_psi_minus.probabilities_dict()# find the measurement probabilities for |𝜓−⟩ here\n",
    "\n",
    "sv_phi_minus =Statevector([np.sqrt(1/2), 0, 0, - np.sqrt(1/2)]) # create a statevector for |𝜙−⟩ here\n",
    "prob_phi_minus = sv_phi_minus.probabilities_dict()# find the measurement probabilities for |𝜙−⟩ here"
   ]
  },
  {
   "cell_type": "code",
   "execution_count": 53,
   "id": "72585681",
   "metadata": {
    "execution": {
     "iopub.execute_input": "2023-07-18T17:00:27.010910Z",
     "iopub.status.busy": "2023-07-18T17:00:27.009969Z",
     "iopub.status.idle": "2023-07-18T17:00:28.727550Z",
     "shell.execute_reply": "2023-07-18T17:00:28.726561Z"
    },
    "papermill": {
     "duration": 1.804045,
     "end_time": "2023-07-18T17:00:28.729575",
     "exception": false,
     "start_time": "2023-07-18T17:00:26.925530",
     "status": "completed"
    },
    "tags": []
   },
   "outputs": [
    {
     "name": "stdout",
     "output_type": "stream",
     "text": [
      "Submitting your answer. Please wait...\n"
     ]
    },
    {
     "name": "stdout",
     "output_type": "stream",
     "text": [
      "Congratulations 🎉! Your answer is correct and has been submitted.\n"
     ]
    }
   ],
   "source": [
    "from qc_grader.challenges.qgss_2023 import grade_lab1_ex9\n",
    "\n",
    "grade_lab1_ex9([prob_psi_plus, prob_psi_minus, prob_phi_minus])"
   ]
  },
  {
   "cell_type": "markdown",
   "id": "0faf6184",
   "metadata": {
    "papermill": {
     "duration": 0.083442,
     "end_time": "2023-07-18T17:00:28.901104",
     "exception": false,
     "start_time": "2023-07-18T17:00:28.817662",
     "status": "completed"
    },
    "tags": []
   },
   "source": [
    "# Final Challenge - generate a QFT circuit\n",
    "\n",
    "[The Fourier transform](https://en.wikipedia.org/wiki/Fourier_transform) occurs in many different formats throughout classical computing, in areas ranging from signal processing to data compression to complexity theory. The quantum Fourier transform (QFT) is the quantum implementation of the discrete Fourier transform over the amplitudes of a wavefunction. It is part of many quantum algorithms, most notably Shor's factoring algorithm and quantum phase estimation. You'll learn more about this important implementation later on during the Summer School, but for this final challenge of Lab 1 we would like you to use Qiskit to create the following QFT circuit on 2 qubits:\n",
    "\n",
    "![](resources/qft.png)"
   ]
  },
  {
   "cell_type": "markdown",
   "id": "a06d2b68",
   "metadata": {
    "papermill": {
     "duration": 0.091859,
     "end_time": "2023-07-18T17:00:29.074567",
     "exception": false,
     "start_time": "2023-07-18T17:00:28.982708",
     "status": "completed"
    },
    "tags": []
   },
   "source": [
    "<div class=\"alert alert-block alert-success\"> Ex 10 - create a 2 qubit QFT circuit using qiskit </div>"
   ]
  },
  {
   "cell_type": "code",
   "execution_count": 54,
   "id": "e51049ac",
   "metadata": {
    "execution": {
     "iopub.execute_input": "2023-07-18T17:00:29.243660Z",
     "iopub.status.busy": "2023-07-18T17:00:29.243247Z",
     "iopub.status.idle": "2023-07-18T17:00:29.253286Z",
     "shell.execute_reply": "2023-07-18T17:00:29.252016Z"
    },
    "papermill": {
     "duration": 0.096066,
     "end_time": "2023-07-18T17:00:29.254865",
     "exception": true,
     "start_time": "2023-07-18T17:00:29.158799",
     "status": "failed"
    },
    "tags": []
   },
   "outputs": [
    {
     "name": "stdout",
     "output_type": "stream",
     "text": [
      "Traceback \u001b[1;36m(most recent call last)\u001b[0m:\n",
      "\u001b[1;36m  Cell \u001b[1;32mIn[54], line 7\u001b[1;36m\n",
      "\u001b[1;33m    qdt.cp(np.pi/2,0,1)\u001b[1;36m\n",
      "\u001b[1;31mNameError\u001b[0m\u001b[1;31m:\u001b[0m name 'qdt' is not defined\n",
      "\n",
      "Use %tb to get the full traceback.\n"
     ]
    },
    {
     "data": {
      "text/html": [
       "\n",
       "<style>\n",
       ".button {\n",
       "  border: none;\n",
       "  color: white;\n",
       "  padding: 4px 8px;\n",
       "  text-align: center;\n",
       "  text-decoration: none;\n",
       "  display: inline-block;\n",
       "  font-size: 12px;\n",
       "  margin: 4px 2px;\n",
       "  transition-duration: 0.2s;\n",
       "  cursor: pointer;\n",
       "}\n",
       ".iqx-button {\n",
       "  background-color: #0f62fe; \n",
       "  color: white; \n",
       "}\n",
       ".iqx-button:hover {\n",
       "  background-color: #0043ce;\n",
       "  color: white;\n",
       "}\n",
       "</style>\n",
       "<a href=\"https://stackoverflow.com/search?q=NameError: name 'qdt' is not defined\" target='_blank'><button class='button iqx-button'>Search for solution online</button></a>\n"
      ],
      "text/plain": [
       "<IPython.core.display.HTML object>"
      ]
     },
     "metadata": {},
     "output_type": "display_data"
    }
   ],
   "source": [
    "qft = QuantumCircuit(2)\n",
    "\n",
    "##############################\n",
    "# add gates to your circuit here\n",
    "\n",
    "qft.h(1)\n",
    "qdt.cp(np.pi/2,0,1)\n",
    "# qft.cz(0,1)\n",
    "qft.h(0)\n",
    "qft.swap(0,1)\n",
    "##############################\n",
    "\n",
    "qft.draw(output='mpl')"
   ]
  },
  {
   "cell_type": "code",
   "execution_count": null,
   "id": "9ad87edc",
   "metadata": {
    "papermill": {
     "duration": null,
     "end_time": null,
     "exception": null,
     "start_time": null,
     "status": "pending"
    },
    "tags": []
   },
   "outputs": [],
   "source": [
    "from qc_grader.challenges.qgss_2023 import grade_lab1_ex10\n",
    "\n",
    "grade_lab1_ex10(qft)"
   ]
  },
  {
   "cell_type": "markdown",
   "id": "94b90a28",
   "metadata": {
    "papermill": {
     "duration": null,
     "end_time": null,
     "exception": null,
     "start_time": null,
     "status": "pending"
    },
    "tags": []
   },
   "source": [
    "To see the matrix that describes the action of this circuit, we can plug the circuit into the `Operator` function like this:"
   ]
  },
  {
   "cell_type": "code",
   "execution_count": null,
   "id": "d83e5f5b",
   "metadata": {
    "papermill": {
     "duration": null,
     "end_time": null,
     "exception": null,
     "start_time": null,
     "status": "pending"
    },
    "tags": []
   },
   "outputs": [],
   "source": [
    "U = Operator(qft)\n",
    "\n",
    "array_to_latex(U)"
   ]
  },
  {
   "cell_type": "markdown",
   "id": "9c1ec931",
   "metadata": {
    "papermill": {
     "duration": null,
     "end_time": null,
     "exception": null,
     "start_time": null,
     "status": "pending"
    },
    "tags": []
   },
   "source": [
    "Congratulations! You finished Lab 1 of the Qiskit Global Summer School 2023! 🎉 🎉 🎉"
   ]
  }
 ],
 "metadata": {
  "kernelspec": {
   "display_name": "Python 3 (ipykernel)",
   "language": "python",
   "name": "python3"
  },
  "language_info": {
   "codemirror_mode": {
    "name": "ipython",
    "version": 3
   },
   "file_extension": ".py",
   "mimetype": "text/x-python",
   "name": "python",
   "nbconvert_exporter": "python",
   "pygments_lexer": "ipython3",
   "version": "3.10.8"
  },
  "papermill": {
   "default_parameters": {},
   "duration": 38.107669,
   "end_time": "2023-07-18T17:00:30.159622",
   "environment_variables": {},
   "exception": true,
   "input_path": "/home/jovyan/quantum-challenge/2023-qgss/lab1/lab1.ipynb",
   "output_path": "/home/jovyan/quantum-challenge/2023-qgss/lab1/lab1-background-results.ipynb",
   "parameters": {},
   "start_time": "2023-07-18T16:59:52.051953",
   "version": "2.4.0"
  },
  "widgets": {
   "application/vnd.jupyter.widget-state+json": {
    "state": {},
    "version_major": 2,
    "version_minor": 0
   }
  }
 },
 "nbformat": 4,
 "nbformat_minor": 5
}